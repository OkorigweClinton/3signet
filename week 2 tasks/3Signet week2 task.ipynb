{
 "cells": [
  {
   "cell_type": "code",
   "execution_count": null,
   "id": "b4e8ff0d-0d21-4f01-ac51-1f88f08899ef",
   "metadata": {},
   "outputs": [],
   "source": [
    "# Import sqlite,numpy and pandas packages"
   ]
  },
  {
   "cell_type": "code",
   "execution_count": 1,
   "id": "24db0706-db88-4d69-8b65-16601410e6f9",
   "metadata": {},
   "outputs": [],
   "source": [
    "import sqlite3 as sql\n",
    "import numpy as py\n",
    "import pandas as pd"
   ]
  },
  {
   "cell_type": "code",
   "execution_count": null,
   "id": "7734d539-09c0-43b2-ae5b-324c34018590",
   "metadata": {},
   "outputs": [],
   "source": [
    "# Establish a connection with the Adventure works SQL database in the jupyter notebook"
   ]
  },
  {
   "cell_type": "code",
   "execution_count": 3,
   "id": "3a9aab1d-8996-40c0-a1a1-2d62eb351923",
   "metadata": {},
   "outputs": [],
   "source": [
    "database = \"adventure works new.db\"\n",
    "connection = sql.connect(database)"
   ]
  },
  {
   "cell_type": "code",
   "execution_count": null,
   "id": "2c3308af-7a89-4270-b9cc-6e334b4f5277",
   "metadata": {},
   "outputs": [],
   "source": [
    "# Query the database to retrieve the AdventureWorks_Calendar table"
   ]
  },
  {
   "cell_type": "code",
   "execution_count": 5,
   "id": "4a8ade85-af28-4320-aa46-643b7c961429",
   "metadata": {},
   "outputs": [],
   "source": [
    "query = '''SELECT * FROM AdventureWorks_Calendar'''"
   ]
  },
  {
   "cell_type": "code",
   "execution_count": null,
   "id": "6a855721-cf9a-4af7-8e1b-0f73cf92c9c5",
   "metadata": {},
   "outputs": [],
   "source": [
    "# Display the first few rows of the dataset"
   ]
  },
  {
   "cell_type": "code",
   "execution_count": 7,
   "id": "0dd90b96-f986-4a93-af64-b7e94797df8a",
   "metadata": {},
   "outputs": [
    {
     "data": {
      "text/html": [
       "<div>\n",
       "<style scoped>\n",
       "    .dataframe tbody tr th:only-of-type {\n",
       "        vertical-align: middle;\n",
       "    }\n",
       "\n",
       "    .dataframe tbody tr th {\n",
       "        vertical-align: top;\n",
       "    }\n",
       "\n",
       "    .dataframe thead th {\n",
       "        text-align: right;\n",
       "    }\n",
       "</style>\n",
       "<table border=\"1\" class=\"dataframe\">\n",
       "  <thead>\n",
       "    <tr style=\"text-align: right;\">\n",
       "      <th></th>\n",
       "      <th>OrderDate</th>\n",
       "    </tr>\n",
       "  </thead>\n",
       "  <tbody>\n",
       "    <tr>\n",
       "      <th>0</th>\n",
       "      <td>1/1/2015</td>\n",
       "    </tr>\n",
       "    <tr>\n",
       "      <th>1</th>\n",
       "      <td>1/2/2015</td>\n",
       "    </tr>\n",
       "    <tr>\n",
       "      <th>2</th>\n",
       "      <td>1/3/2015</td>\n",
       "    </tr>\n",
       "    <tr>\n",
       "      <th>3</th>\n",
       "      <td>1/4/2015</td>\n",
       "    </tr>\n",
       "    <tr>\n",
       "      <th>4</th>\n",
       "      <td>1/5/2015</td>\n",
       "    </tr>\n",
       "  </tbody>\n",
       "</table>\n",
       "</div>"
      ],
      "text/plain": [
       "  OrderDate\n",
       "0  1/1/2015\n",
       "1  1/2/2015\n",
       "2  1/3/2015\n",
       "3  1/4/2015\n",
       "4  1/5/2015"
      ]
     },
     "execution_count": 7,
     "metadata": {},
     "output_type": "execute_result"
    }
   ],
   "source": [
    "df = pd.read_sql_query(query,connection)\n",
    "df.head()"
   ]
  },
  {
   "cell_type": "code",
   "execution_count": null,
   "id": "70fc7e02-6afa-41f6-8265-394ac6f36813",
   "metadata": {},
   "outputs": [],
   "source": [
    "# Check for missing values and data types; view summary statistics"
   ]
  },
  {
   "cell_type": "code",
   "execution_count": 9,
   "id": "9bb83f0e-d8a2-4e32-be14-e5050c2a68d5",
   "metadata": {},
   "outputs": [
    {
     "name": "stdout",
     "output_type": "stream",
     "text": [
      "<class 'pandas.core.frame.DataFrame'>\n",
      "RangeIndex: 912 entries, 0 to 911\n",
      "Data columns (total 1 columns):\n",
      " #   Column     Non-Null Count  Dtype \n",
      "---  ------     --------------  ----- \n",
      " 0   OrderDate  912 non-null    object\n",
      "dtypes: object(1)\n",
      "memory usage: 7.3+ KB\n"
     ]
    },
    {
     "data": {
      "text/html": [
       "<div>\n",
       "<style scoped>\n",
       "    .dataframe tbody tr th:only-of-type {\n",
       "        vertical-align: middle;\n",
       "    }\n",
       "\n",
       "    .dataframe tbody tr th {\n",
       "        vertical-align: top;\n",
       "    }\n",
       "\n",
       "    .dataframe thead th {\n",
       "        text-align: right;\n",
       "    }\n",
       "</style>\n",
       "<table border=\"1\" class=\"dataframe\">\n",
       "  <thead>\n",
       "    <tr style=\"text-align: right;\">\n",
       "      <th></th>\n",
       "      <th>OrderDate</th>\n",
       "    </tr>\n",
       "  </thead>\n",
       "  <tbody>\n",
       "    <tr>\n",
       "      <th>count</th>\n",
       "      <td>912</td>\n",
       "    </tr>\n",
       "    <tr>\n",
       "      <th>unique</th>\n",
       "      <td>912</td>\n",
       "    </tr>\n",
       "    <tr>\n",
       "      <th>top</th>\n",
       "      <td>1/1/2015</td>\n",
       "    </tr>\n",
       "    <tr>\n",
       "      <th>freq</th>\n",
       "      <td>1</td>\n",
       "    </tr>\n",
       "  </tbody>\n",
       "</table>\n",
       "</div>"
      ],
      "text/plain": [
       "       OrderDate\n",
       "count        912\n",
       "unique       912\n",
       "top     1/1/2015\n",
       "freq           1"
      ]
     },
     "execution_count": 9,
     "metadata": {},
     "output_type": "execute_result"
    }
   ],
   "source": [
    "df.info()\n",
    "df.describe()"
   ]
  },
  {
   "cell_type": "code",
   "execution_count": 11,
   "id": "f61fd76f-0d55-49c2-83f3-e7ba812f08e3",
   "metadata": {},
   "outputs": [
    {
     "name": "stdout",
     "output_type": "stream",
     "text": [
      "       OrderDate\n",
      "count        912\n",
      "unique       912\n",
      "top     1/1/2015\n",
      "freq           1\n"
     ]
    }
   ],
   "source": [
    "print(df.describe())"
   ]
  },
  {
   "cell_type": "code",
   "execution_count": null,
   "id": "608d7b6d-258a-4764-8f33-0aa217d22f38",
   "metadata": {},
   "outputs": [],
   "source": [
    "# Query database to retrieve the table AdventureWorks_Customers and view initial rows of the table"
   ]
  },
  {
   "cell_type": "code",
   "execution_count": 17,
   "id": "f6ebafae-0cc4-44c1-a365-16cfe3827ba7",
   "metadata": {},
   "outputs": [],
   "source": [
    "query = ''' SELECT* FROM AdventureWorks_Customers'''"
   ]
  },
  {
   "cell_type": "code",
   "execution_count": 19,
   "id": "487a10f2-8fda-4c19-9abe-b6d48df96bd6",
   "metadata": {},
   "outputs": [
    {
     "data": {
      "text/html": [
       "<div>\n",
       "<style scoped>\n",
       "    .dataframe tbody tr th:only-of-type {\n",
       "        vertical-align: middle;\n",
       "    }\n",
       "\n",
       "    .dataframe tbody tr th {\n",
       "        vertical-align: top;\n",
       "    }\n",
       "\n",
       "    .dataframe thead th {\n",
       "        text-align: right;\n",
       "    }\n",
       "</style>\n",
       "<table border=\"1\" class=\"dataframe\">\n",
       "  <thead>\n",
       "    <tr style=\"text-align: right;\">\n",
       "      <th></th>\n",
       "      <th>CustomerKey</th>\n",
       "      <th>Prefix</th>\n",
       "      <th>FirstName</th>\n",
       "      <th>LastName</th>\n",
       "      <th>BirthDate</th>\n",
       "      <th>MaritalStatus</th>\n",
       "      <th>Gender</th>\n",
       "      <th>EmailAddress</th>\n",
       "      <th>AnnualIncome</th>\n",
       "      <th>TotalChildren</th>\n",
       "      <th>EducationLevel</th>\n",
       "      <th>Occupation</th>\n",
       "      <th>HomeOwner</th>\n",
       "    </tr>\n",
       "  </thead>\n",
       "  <tbody>\n",
       "    <tr>\n",
       "      <th>0</th>\n",
       "      <td>11000</td>\n",
       "      <td>MR.</td>\n",
       "      <td>JON</td>\n",
       "      <td>YANG</td>\n",
       "      <td>4/8/1966</td>\n",
       "      <td>M</td>\n",
       "      <td>M</td>\n",
       "      <td>jon24@adventure-works.com</td>\n",
       "      <td>$90,000</td>\n",
       "      <td>2</td>\n",
       "      <td>Bachelors</td>\n",
       "      <td>Professional</td>\n",
       "      <td>Y</td>\n",
       "    </tr>\n",
       "    <tr>\n",
       "      <th>1</th>\n",
       "      <td>11001</td>\n",
       "      <td>MR.</td>\n",
       "      <td>EUGENE</td>\n",
       "      <td>HUANG</td>\n",
       "      <td>5/14/1965</td>\n",
       "      <td>S</td>\n",
       "      <td>M</td>\n",
       "      <td>eugene10@adventure-works.com</td>\n",
       "      <td>$60,000</td>\n",
       "      <td>3</td>\n",
       "      <td>Bachelors</td>\n",
       "      <td>Professional</td>\n",
       "      <td>N</td>\n",
       "    </tr>\n",
       "    <tr>\n",
       "      <th>2</th>\n",
       "      <td>11002</td>\n",
       "      <td>MR.</td>\n",
       "      <td>RUBEN</td>\n",
       "      <td>TORRES</td>\n",
       "      <td>8/12/1965</td>\n",
       "      <td>M</td>\n",
       "      <td>M</td>\n",
       "      <td>ruben35@adventure-works.com</td>\n",
       "      <td>$60,000</td>\n",
       "      <td>3</td>\n",
       "      <td>Bachelors</td>\n",
       "      <td>Professional</td>\n",
       "      <td>Y</td>\n",
       "    </tr>\n",
       "    <tr>\n",
       "      <th>3</th>\n",
       "      <td>11003</td>\n",
       "      <td>MS.</td>\n",
       "      <td>CHRISTY</td>\n",
       "      <td>ZHU</td>\n",
       "      <td>2/15/1968</td>\n",
       "      <td>S</td>\n",
       "      <td>F</td>\n",
       "      <td>christy12@adventure-works.com</td>\n",
       "      <td>$70,000</td>\n",
       "      <td>0</td>\n",
       "      <td>Bachelors</td>\n",
       "      <td>Professional</td>\n",
       "      <td>N</td>\n",
       "    </tr>\n",
       "    <tr>\n",
       "      <th>4</th>\n",
       "      <td>11004</td>\n",
       "      <td>MRS.</td>\n",
       "      <td>ELIZABETH</td>\n",
       "      <td>JOHNSON</td>\n",
       "      <td>8/8/1968</td>\n",
       "      <td>S</td>\n",
       "      <td>F</td>\n",
       "      <td>elizabeth5@adventure-works.com</td>\n",
       "      <td>$80,000</td>\n",
       "      <td>5</td>\n",
       "      <td>Bachelors</td>\n",
       "      <td>Professional</td>\n",
       "      <td>Y</td>\n",
       "    </tr>\n",
       "  </tbody>\n",
       "</table>\n",
       "</div>"
      ],
      "text/plain": [
       "   CustomerKey Prefix  FirstName LastName  BirthDate MaritalStatus Gender  \\\n",
       "0        11000    MR.        JON     YANG   4/8/1966             M      M   \n",
       "1        11001    MR.     EUGENE    HUANG  5/14/1965             S      M   \n",
       "2        11002    MR.      RUBEN   TORRES  8/12/1965             M      M   \n",
       "3        11003    MS.    CHRISTY      ZHU  2/15/1968             S      F   \n",
       "4        11004   MRS.  ELIZABETH  JOHNSON   8/8/1968             S      F   \n",
       "\n",
       "                     EmailAddress AnnualIncome  TotalChildren EducationLevel  \\\n",
       "0       jon24@adventure-works.com      $90,000              2      Bachelors   \n",
       "1    eugene10@adventure-works.com      $60,000              3      Bachelors   \n",
       "2     ruben35@adventure-works.com      $60,000              3      Bachelors   \n",
       "3   christy12@adventure-works.com      $70,000              0      Bachelors   \n",
       "4  elizabeth5@adventure-works.com      $80,000              5      Bachelors   \n",
       "\n",
       "     Occupation HomeOwner  \n",
       "0  Professional         Y  \n",
       "1  Professional         N  \n",
       "2  Professional         Y  \n",
       "3  Professional         N  \n",
       "4  Professional         Y  "
      ]
     },
     "execution_count": 19,
     "metadata": {},
     "output_type": "execute_result"
    }
   ],
   "source": [
    "df = pd.read_sql_query(query, connection)\n",
    "df.head()"
   ]
  },
  {
   "cell_type": "code",
   "execution_count": null,
   "id": "0c5ab264-9e68-479c-a660-cb05aec69343",
   "metadata": {},
   "outputs": [],
   "source": [
    "# Check for missing values and data types; view summary statistics"
   ]
  },
  {
   "cell_type": "code",
   "execution_count": 21,
   "id": "f20a24f1-d73f-4925-931e-31c77ebda0be",
   "metadata": {},
   "outputs": [
    {
     "name": "stdout",
     "output_type": "stream",
     "text": [
      "<class 'pandas.core.frame.DataFrame'>\n",
      "RangeIndex: 18148 entries, 0 to 18147\n",
      "Data columns (total 13 columns):\n",
      " #   Column          Non-Null Count  Dtype \n",
      "---  ------          --------------  ----- \n",
      " 0   CustomerKey     18148 non-null  int64 \n",
      " 1   Prefix          18018 non-null  object\n",
      " 2   FirstName       18148 non-null  object\n",
      " 3   LastName        18148 non-null  object\n",
      " 4   BirthDate       18148 non-null  object\n",
      " 5   MaritalStatus   18148 non-null  object\n",
      " 6   Gender          18148 non-null  object\n",
      " 7   EmailAddress    18148 non-null  object\n",
      " 8   AnnualIncome    18148 non-null  object\n",
      " 9   TotalChildren   18148 non-null  int64 \n",
      " 10  EducationLevel  18148 non-null  object\n",
      " 11  Occupation      18148 non-null  object\n",
      " 12  HomeOwner       18148 non-null  object\n",
      "dtypes: int64(2), object(11)\n",
      "memory usage: 1.8+ MB\n"
     ]
    },
    {
     "data": {
      "text/html": [
       "<div>\n",
       "<style scoped>\n",
       "    .dataframe tbody tr th:only-of-type {\n",
       "        vertical-align: middle;\n",
       "    }\n",
       "\n",
       "    .dataframe tbody tr th {\n",
       "        vertical-align: top;\n",
       "    }\n",
       "\n",
       "    .dataframe thead th {\n",
       "        text-align: right;\n",
       "    }\n",
       "</style>\n",
       "<table border=\"1\" class=\"dataframe\">\n",
       "  <thead>\n",
       "    <tr style=\"text-align: right;\">\n",
       "      <th></th>\n",
       "      <th>CustomerKey</th>\n",
       "      <th>TotalChildren</th>\n",
       "    </tr>\n",
       "  </thead>\n",
       "  <tbody>\n",
       "    <tr>\n",
       "      <th>count</th>\n",
       "      <td>18148.000000</td>\n",
       "      <td>18148.000000</td>\n",
       "    </tr>\n",
       "    <tr>\n",
       "      <th>mean</th>\n",
       "      <td>20247.470465</td>\n",
       "      <td>1.843619</td>\n",
       "    </tr>\n",
       "    <tr>\n",
       "      <th>std</th>\n",
       "      <td>5336.245656</td>\n",
       "      <td>1.613203</td>\n",
       "    </tr>\n",
       "    <tr>\n",
       "      <th>min</th>\n",
       "      <td>11000.000000</td>\n",
       "      <td>0.000000</td>\n",
       "    </tr>\n",
       "    <tr>\n",
       "      <th>25%</th>\n",
       "      <td>15626.750000</td>\n",
       "      <td>0.000000</td>\n",
       "    </tr>\n",
       "    <tr>\n",
       "      <th>50%</th>\n",
       "      <td>20252.500000</td>\n",
       "      <td>2.000000</td>\n",
       "    </tr>\n",
       "    <tr>\n",
       "      <th>75%</th>\n",
       "      <td>24868.250000</td>\n",
       "      <td>3.000000</td>\n",
       "    </tr>\n",
       "    <tr>\n",
       "      <th>max</th>\n",
       "      <td>29483.000000</td>\n",
       "      <td>5.000000</td>\n",
       "    </tr>\n",
       "  </tbody>\n",
       "</table>\n",
       "</div>"
      ],
      "text/plain": [
       "        CustomerKey  TotalChildren\n",
       "count  18148.000000   18148.000000\n",
       "mean   20247.470465       1.843619\n",
       "std     5336.245656       1.613203\n",
       "min    11000.000000       0.000000\n",
       "25%    15626.750000       0.000000\n",
       "50%    20252.500000       2.000000\n",
       "75%    24868.250000       3.000000\n",
       "max    29483.000000       5.000000"
      ]
     },
     "execution_count": 21,
     "metadata": {},
     "output_type": "execute_result"
    }
   ],
   "source": [
    "df.info()\n",
    "df.describe()"
   ]
  },
  {
   "cell_type": "code",
   "execution_count": null,
   "id": "735514ac-7714-44dc-9e24-1d8cd4645f4d",
   "metadata": {},
   "outputs": [],
   "source": [
    "# Check for missing data sum"
   ]
  },
  {
   "cell_type": "code",
   "execution_count": 23,
   "id": "0d659db8-17ed-4a01-8879-32b25dacd2ca",
   "metadata": {},
   "outputs": [],
   "source": [
    "missing_data = df.isnull().sum()"
   ]
  },
  {
   "cell_type": "code",
   "execution_count": 25,
   "id": "97883eca-2695-484e-992b-9b8b2c7bbad8",
   "metadata": {},
   "outputs": [
    {
     "name": "stdout",
     "output_type": "stream",
     "text": [
      "CustomerKey         0\n",
      "Prefix            130\n",
      "FirstName           0\n",
      "LastName            0\n",
      "BirthDate           0\n",
      "MaritalStatus       0\n",
      "Gender              0\n",
      "EmailAddress        0\n",
      "AnnualIncome        0\n",
      "TotalChildren       0\n",
      "EducationLevel      0\n",
      "Occupation          0\n",
      "HomeOwner           0\n",
      "dtype: int64\n"
     ]
    }
   ],
   "source": [
    "print(missing_data)"
   ]
  },
  {
   "cell_type": "code",
   "execution_count": null,
   "id": "d1f960aa-ba3f-4b8f-8875-0033e329016d",
   "metadata": {},
   "outputs": [],
   "source": [
    "# Drop missing values"
   ]
  },
  {
   "cell_type": "code",
   "execution_count": 27,
   "id": "9e165ae3-0ac6-4fef-9763-84c6d6ed5d90",
   "metadata": {},
   "outputs": [],
   "source": [
    "df.dropna(subset=['Prefix'], inplace=True)"
   ]
  },
  {
   "cell_type": "code",
   "execution_count": 29,
   "id": "cdeb5f27-ed60-4032-8a12-fee788ec92b3",
   "metadata": {},
   "outputs": [
    {
     "name": "stdout",
     "output_type": "stream",
     "text": [
      "<bound method DataFrame.dropna of        CustomerKey Prefix  FirstName LastName   BirthDate MaritalStatus  \\\n",
      "0            11000    MR.        JON     YANG    4/8/1966             M   \n",
      "1            11001    MR.     EUGENE    HUANG   5/14/1965             S   \n",
      "2            11002    MR.      RUBEN   TORRES   8/12/1965             M   \n",
      "3            11003    MS.    CHRISTY      ZHU   2/15/1968             S   \n",
      "4            11004   MRS.  ELIZABETH  JOHNSON    8/8/1968             S   \n",
      "...            ...    ...        ...      ...         ...           ...   \n",
      "18143        29479    MR.      TOMMY     TANG    7/4/1958             M   \n",
      "18144        29480   MRS.       NINA     RAJI  11/10/1960             S   \n",
      "18145        29481    MR.       IVAN     SURI    1/5/1960             S   \n",
      "18146        29482    MR.    CLAYTON    ZHANG    3/5/1959             M   \n",
      "18147        29483    MR.      J�SUS  NAVARRO   12/8/1959             M   \n",
      "\n",
      "      Gender                    EmailAddress AnnualIncome  TotalChildren  \\\n",
      "0          M       jon24@adventure-works.com      $90,000              2   \n",
      "1          M    eugene10@adventure-works.com      $60,000              3   \n",
      "2          M     ruben35@adventure-works.com      $60,000              3   \n",
      "3          F   christy12@adventure-works.com      $70,000              0   \n",
      "4          F  elizabeth5@adventure-works.com      $80,000              5   \n",
      "...      ...                             ...          ...            ...   \n",
      "18143      M      tommy2@adventure-works.com      $30,000              1   \n",
      "18144      F      nina21@adventure-works.com      $30,000              3   \n",
      "18145      M       ivan0@adventure-works.com      $30,000              3   \n",
      "18146      M    clayton0@adventure-works.com      $30,000              3   \n",
      "18147      M      j�sus9@adventure-works.com      $30,000              0   \n",
      "\n",
      "        EducationLevel    Occupation HomeOwner  \n",
      "0            Bachelors  Professional         Y  \n",
      "1            Bachelors  Professional         N  \n",
      "2            Bachelors  Professional         Y  \n",
      "3            Bachelors  Professional         N  \n",
      "4            Bachelors  Professional         Y  \n",
      "...                ...           ...       ...  \n",
      "18143  Graduate Degree      Clerical         Y  \n",
      "18144  Graduate Degree      Clerical         Y  \n",
      "18145  Graduate Degree      Clerical         N  \n",
      "18146        Bachelors      Clerical         Y  \n",
      "18147        Bachelors      Clerical         Y  \n",
      "\n",
      "[18018 rows x 13 columns]>\n"
     ]
    }
   ],
   "source": [
    "print(df.dropna)"
   ]
  },
  {
   "cell_type": "code",
   "execution_count": 31,
   "id": "81ca1bd6-e39e-490b-a94f-8f14f6c64abb",
   "metadata": {},
   "outputs": [
    {
     "name": "stdout",
     "output_type": "stream",
     "text": [
      "CustomerKey         0\n",
      "Prefix            130\n",
      "FirstName           0\n",
      "LastName            0\n",
      "BirthDate           0\n",
      "MaritalStatus       0\n",
      "Gender              0\n",
      "EmailAddress        0\n",
      "AnnualIncome        0\n",
      "TotalChildren       0\n",
      "EducationLevel      0\n",
      "Occupation          0\n",
      "HomeOwner           0\n",
      "dtype: int64\n"
     ]
    }
   ],
   "source": [
    "print(missing_data)"
   ]
  },
  {
   "cell_type": "code",
   "execution_count": 33,
   "id": "9b23d573-37b3-4872-8ea9-17363b6fb338",
   "metadata": {},
   "outputs": [],
   "source": [
    "df.dropna(inplace=True)"
   ]
  },
  {
   "cell_type": "code",
   "execution_count": null,
   "id": "b8ae43ef-42be-4099-89da-96275b553e58",
   "metadata": {},
   "outputs": [],
   "source": [
    "# Query database to retrieve the table AdventureWorks_Returns and view initial rows of the table"
   ]
  },
  {
   "cell_type": "code",
   "execution_count": 35,
   "id": "b38af836-34cb-4a7a-a67f-821899e503a6",
   "metadata": {},
   "outputs": [],
   "source": [
    "query = '''SELECT* FROM AdventureWorks_Returns'''"
   ]
  },
  {
   "cell_type": "code",
   "execution_count": 37,
   "id": "8ac03d05-75ca-43a2-a9ef-843b2f8c9556",
   "metadata": {},
   "outputs": [
    {
     "data": {
      "text/html": [
       "<div>\n",
       "<style scoped>\n",
       "    .dataframe tbody tr th:only-of-type {\n",
       "        vertical-align: middle;\n",
       "    }\n",
       "\n",
       "    .dataframe tbody tr th {\n",
       "        vertical-align: top;\n",
       "    }\n",
       "\n",
       "    .dataframe thead th {\n",
       "        text-align: right;\n",
       "    }\n",
       "</style>\n",
       "<table border=\"1\" class=\"dataframe\">\n",
       "  <thead>\n",
       "    <tr style=\"text-align: right;\">\n",
       "      <th></th>\n",
       "      <th>ReturnDate</th>\n",
       "      <th>TerritoryKey</th>\n",
       "      <th>ProductKey</th>\n",
       "      <th>ReturnQuantity</th>\n",
       "    </tr>\n",
       "  </thead>\n",
       "  <tbody>\n",
       "    <tr>\n",
       "      <th>0</th>\n",
       "      <td>1/18/2015</td>\n",
       "      <td>9</td>\n",
       "      <td>312</td>\n",
       "      <td>1</td>\n",
       "    </tr>\n",
       "    <tr>\n",
       "      <th>1</th>\n",
       "      <td>1/18/2015</td>\n",
       "      <td>10</td>\n",
       "      <td>310</td>\n",
       "      <td>1</td>\n",
       "    </tr>\n",
       "    <tr>\n",
       "      <th>2</th>\n",
       "      <td>1/21/2015</td>\n",
       "      <td>8</td>\n",
       "      <td>346</td>\n",
       "      <td>1</td>\n",
       "    </tr>\n",
       "    <tr>\n",
       "      <th>3</th>\n",
       "      <td>1/22/2015</td>\n",
       "      <td>4</td>\n",
       "      <td>311</td>\n",
       "      <td>1</td>\n",
       "    </tr>\n",
       "    <tr>\n",
       "      <th>4</th>\n",
       "      <td>2/2/2015</td>\n",
       "      <td>6</td>\n",
       "      <td>312</td>\n",
       "      <td>1</td>\n",
       "    </tr>\n",
       "  </tbody>\n",
       "</table>\n",
       "</div>"
      ],
      "text/plain": [
       "  ReturnDate  TerritoryKey  ProductKey  ReturnQuantity\n",
       "0  1/18/2015             9         312               1\n",
       "1  1/18/2015            10         310               1\n",
       "2  1/21/2015             8         346               1\n",
       "3  1/22/2015             4         311               1\n",
       "4   2/2/2015             6         312               1"
      ]
     },
     "execution_count": 37,
     "metadata": {},
     "output_type": "execute_result"
    }
   ],
   "source": [
    "df = pd.read_sql_query(query,connection)\n",
    "df.head()"
   ]
  },
  {
   "cell_type": "code",
   "execution_count": null,
   "id": "a0d81a6e-a004-4508-ad89-ff0436578248",
   "metadata": {},
   "outputs": [],
   "source": [
    "# Check for missing values and data types; view summary statistics"
   ]
  },
  {
   "cell_type": "code",
   "execution_count": 39,
   "id": "ef315d05-d753-474c-9af6-afac455a4b2d",
   "metadata": {},
   "outputs": [
    {
     "name": "stdout",
     "output_type": "stream",
     "text": [
      "<class 'pandas.core.frame.DataFrame'>\n",
      "RangeIndex: 1809 entries, 0 to 1808\n",
      "Data columns (total 4 columns):\n",
      " #   Column          Non-Null Count  Dtype \n",
      "---  ------          --------------  ----- \n",
      " 0   ReturnDate      1809 non-null   object\n",
      " 1   TerritoryKey    1809 non-null   int64 \n",
      " 2   ProductKey      1809 non-null   int64 \n",
      " 3   ReturnQuantity  1809 non-null   int64 \n",
      "dtypes: int64(3), object(1)\n",
      "memory usage: 56.7+ KB\n"
     ]
    },
    {
     "data": {
      "text/html": [
       "<div>\n",
       "<style scoped>\n",
       "    .dataframe tbody tr th:only-of-type {\n",
       "        vertical-align: middle;\n",
       "    }\n",
       "\n",
       "    .dataframe tbody tr th {\n",
       "        vertical-align: top;\n",
       "    }\n",
       "\n",
       "    .dataframe thead th {\n",
       "        text-align: right;\n",
       "    }\n",
       "</style>\n",
       "<table border=\"1\" class=\"dataframe\">\n",
       "  <thead>\n",
       "    <tr style=\"text-align: right;\">\n",
       "      <th></th>\n",
       "      <th>TerritoryKey</th>\n",
       "      <th>ProductKey</th>\n",
       "      <th>ReturnQuantity</th>\n",
       "    </tr>\n",
       "  </thead>\n",
       "  <tbody>\n",
       "    <tr>\n",
       "      <th>count</th>\n",
       "      <td>1809.000000</td>\n",
       "      <td>1809.000000</td>\n",
       "      <td>1809.000000</td>\n",
       "    </tr>\n",
       "    <tr>\n",
       "      <th>mean</th>\n",
       "      <td>6.259812</td>\n",
       "      <td>443.460475</td>\n",
       "      <td>1.010503</td>\n",
       "    </tr>\n",
       "    <tr>\n",
       "      <th>std</th>\n",
       "      <td>2.948103</td>\n",
       "      <td>115.326651</td>\n",
       "      <td>0.101973</td>\n",
       "    </tr>\n",
       "    <tr>\n",
       "      <th>min</th>\n",
       "      <td>1.000000</td>\n",
       "      <td>214.000000</td>\n",
       "      <td>1.000000</td>\n",
       "    </tr>\n",
       "    <tr>\n",
       "      <th>25%</th>\n",
       "      <td>4.000000</td>\n",
       "      <td>369.000000</td>\n",
       "      <td>1.000000</td>\n",
       "    </tr>\n",
       "    <tr>\n",
       "      <th>50%</th>\n",
       "      <td>7.000000</td>\n",
       "      <td>479.000000</td>\n",
       "      <td>1.000000</td>\n",
       "    </tr>\n",
       "    <tr>\n",
       "      <th>75%</th>\n",
       "      <td>9.000000</td>\n",
       "      <td>529.000000</td>\n",
       "      <td>1.000000</td>\n",
       "    </tr>\n",
       "    <tr>\n",
       "      <th>max</th>\n",
       "      <td>10.000000</td>\n",
       "      <td>606.000000</td>\n",
       "      <td>2.000000</td>\n",
       "    </tr>\n",
       "  </tbody>\n",
       "</table>\n",
       "</div>"
      ],
      "text/plain": [
       "       TerritoryKey   ProductKey  ReturnQuantity\n",
       "count   1809.000000  1809.000000     1809.000000\n",
       "mean       6.259812   443.460475        1.010503\n",
       "std        2.948103   115.326651        0.101973\n",
       "min        1.000000   214.000000        1.000000\n",
       "25%        4.000000   369.000000        1.000000\n",
       "50%        7.000000   479.000000        1.000000\n",
       "75%        9.000000   529.000000        1.000000\n",
       "max       10.000000   606.000000        2.000000"
      ]
     },
     "execution_count": 39,
     "metadata": {},
     "output_type": "execute_result"
    }
   ],
   "source": [
    "df.info()\n",
    "df.describe()"
   ]
  },
  {
   "cell_type": "code",
   "execution_count": null,
   "id": "26bb0f94-eaf1-4a4b-82f1-cfbe1109be3c",
   "metadata": {},
   "outputs": [],
   "source": [
    "# Check for null values"
   ]
  },
  {
   "cell_type": "code",
   "execution_count": 41,
   "id": "418978ce-56b0-4667-b42e-773c3ef56b97",
   "metadata": {},
   "outputs": [
    {
     "data": {
      "text/plain": [
       "ReturnDate        0\n",
       "TerritoryKey      0\n",
       "ProductKey        0\n",
       "ReturnQuantity    0\n",
       "dtype: int64"
      ]
     },
     "execution_count": 41,
     "metadata": {},
     "output_type": "execute_result"
    }
   ],
   "source": [
    "df.isnull().sum()"
   ]
  },
  {
   "cell_type": "code",
   "execution_count": null,
   "id": "0cc01222-f2ee-40b6-9433-bb9ef814413f",
   "metadata": {},
   "outputs": [],
   "source": [
    "# Query database to retrieve the table AdventureWorks_Territories and view initial rows of the table"
   ]
  },
  {
   "cell_type": "code",
   "execution_count": 43,
   "id": "22835fd7-2297-417e-b3bd-2bacb44fa602",
   "metadata": {},
   "outputs": [],
   "source": [
    "query = '''SELECT * FROM AdventureWorks_Territories'''"
   ]
  },
  {
   "cell_type": "code",
   "execution_count": 45,
   "id": "bc6ac3b1-dca3-435c-8b16-1cd8dac4af0c",
   "metadata": {},
   "outputs": [
    {
     "data": {
      "text/html": [
       "<div>\n",
       "<style scoped>\n",
       "    .dataframe tbody tr th:only-of-type {\n",
       "        vertical-align: middle;\n",
       "    }\n",
       "\n",
       "    .dataframe tbody tr th {\n",
       "        vertical-align: top;\n",
       "    }\n",
       "\n",
       "    .dataframe thead th {\n",
       "        text-align: right;\n",
       "    }\n",
       "</style>\n",
       "<table border=\"1\" class=\"dataframe\">\n",
       "  <thead>\n",
       "    <tr style=\"text-align: right;\">\n",
       "      <th></th>\n",
       "      <th>TerritoryKey</th>\n",
       "      <th>Region</th>\n",
       "      <th>Country</th>\n",
       "      <th>Continent</th>\n",
       "    </tr>\n",
       "  </thead>\n",
       "  <tbody>\n",
       "    <tr>\n",
       "      <th>0</th>\n",
       "      <td>1</td>\n",
       "      <td>Northwest</td>\n",
       "      <td>United States</td>\n",
       "      <td>North America</td>\n",
       "    </tr>\n",
       "    <tr>\n",
       "      <th>1</th>\n",
       "      <td>2</td>\n",
       "      <td>Northeast</td>\n",
       "      <td>United States</td>\n",
       "      <td>North America</td>\n",
       "    </tr>\n",
       "    <tr>\n",
       "      <th>2</th>\n",
       "      <td>3</td>\n",
       "      <td>Central</td>\n",
       "      <td>United States</td>\n",
       "      <td>North America</td>\n",
       "    </tr>\n",
       "    <tr>\n",
       "      <th>3</th>\n",
       "      <td>4</td>\n",
       "      <td>Southwest</td>\n",
       "      <td>United States</td>\n",
       "      <td>North America</td>\n",
       "    </tr>\n",
       "    <tr>\n",
       "      <th>4</th>\n",
       "      <td>5</td>\n",
       "      <td>Southeast</td>\n",
       "      <td>United States</td>\n",
       "      <td>North America</td>\n",
       "    </tr>\n",
       "  </tbody>\n",
       "</table>\n",
       "</div>"
      ],
      "text/plain": [
       "   TerritoryKey     Region        Country      Continent\n",
       "0             1  Northwest  United States  North America\n",
       "1             2  Northeast  United States  North America\n",
       "2             3    Central  United States  North America\n",
       "3             4  Southwest  United States  North America\n",
       "4             5  Southeast  United States  North America"
      ]
     },
     "execution_count": 45,
     "metadata": {},
     "output_type": "execute_result"
    }
   ],
   "source": [
    "df = pd.read_sql_query(query,connection)\n",
    "df.head()"
   ]
  },
  {
   "cell_type": "code",
   "execution_count": null,
   "id": "ea0a014a-5f24-40d6-9b9a-73e948d0c106",
   "metadata": {},
   "outputs": [],
   "source": [
    "# Check for missing values and data types; view summary statistics; count null values"
   ]
  },
  {
   "cell_type": "code",
   "execution_count": 47,
   "id": "fe4ac738-f4ee-4564-9373-47b04ba07c0d",
   "metadata": {},
   "outputs": [
    {
     "name": "stdout",
     "output_type": "stream",
     "text": [
      "<class 'pandas.core.frame.DataFrame'>\n",
      "RangeIndex: 10 entries, 0 to 9\n",
      "Data columns (total 4 columns):\n",
      " #   Column        Non-Null Count  Dtype \n",
      "---  ------        --------------  ----- \n",
      " 0   TerritoryKey  10 non-null     int64 \n",
      " 1   Region        10 non-null     object\n",
      " 2   Country       10 non-null     object\n",
      " 3   Continent     10 non-null     object\n",
      "dtypes: int64(1), object(3)\n",
      "memory usage: 452.0+ bytes\n"
     ]
    },
    {
     "data": {
      "text/plain": [
       "TerritoryKey    0\n",
       "Region          0\n",
       "Country         0\n",
       "Continent       0\n",
       "dtype: int64"
      ]
     },
     "execution_count": 47,
     "metadata": {},
     "output_type": "execute_result"
    }
   ],
   "source": [
    "df.info()\n",
    "df.describe()\n",
    "df.isnull().sum()"
   ]
  },
  {
   "cell_type": "code",
   "execution_count": null,
   "id": "81150fae-53f1-472f-9fda-11d5dbd4828e",
   "metadata": {},
   "outputs": [],
   "source": [
    "# Query database to retrieve the table AdventureWorks_Territories and view initial rows of the table"
   ]
  },
  {
   "cell_type": "code",
   "execution_count": 49,
   "id": "61e63c70-4ece-4733-b58d-672a6a62febe",
   "metadata": {},
   "outputs": [],
   "source": [
    "query = '''SELECT * FROM AdventureWorks_Products'''\n"
   ]
  },
  {
   "cell_type": "code",
   "execution_count": 64,
   "id": "3f2d7af6-7a84-4603-b541-7ad8945afa41",
   "metadata": {},
   "outputs": [
    {
     "data": {
      "text/html": [
       "<div>\n",
       "<style scoped>\n",
       "    .dataframe tbody tr th:only-of-type {\n",
       "        vertical-align: middle;\n",
       "    }\n",
       "\n",
       "    .dataframe tbody tr th {\n",
       "        vertical-align: top;\n",
       "    }\n",
       "\n",
       "    .dataframe thead th {\n",
       "        text-align: right;\n",
       "    }\n",
       "</style>\n",
       "<table border=\"1\" class=\"dataframe\">\n",
       "  <thead>\n",
       "    <tr style=\"text-align: right;\">\n",
       "      <th></th>\n",
       "      <th>ProductKey</th>\n",
       "      <th>ProductSubcategoryKey</th>\n",
       "      <th>ProductSKU</th>\n",
       "      <th>ProductName</th>\n",
       "      <th>ModelName</th>\n",
       "      <th>ProductDescription</th>\n",
       "      <th>ProductColor</th>\n",
       "      <th>ProductSize</th>\n",
       "      <th>ProductStyle</th>\n",
       "      <th>ProductCost</th>\n",
       "      <th>ProductPrice</th>\n",
       "    </tr>\n",
       "  </thead>\n",
       "  <tbody>\n",
       "    <tr>\n",
       "      <th>0</th>\n",
       "      <td>214</td>\n",
       "      <td>31</td>\n",
       "      <td>HL-U509-R</td>\n",
       "      <td>Sport-100 Helmet, Red</td>\n",
       "      <td>Sport-100</td>\n",
       "      <td>Universal fit, well-vented, lightweight , snap...</td>\n",
       "      <td>Red</td>\n",
       "      <td>0</td>\n",
       "      <td>0</td>\n",
       "      <td>13.0863</td>\n",
       "      <td>34.9900</td>\n",
       "    </tr>\n",
       "    <tr>\n",
       "      <th>1</th>\n",
       "      <td>215</td>\n",
       "      <td>31</td>\n",
       "      <td>HL-U509</td>\n",
       "      <td>Sport-100 Helmet, Black</td>\n",
       "      <td>Sport-100</td>\n",
       "      <td>Universal fit, well-vented, lightweight , snap...</td>\n",
       "      <td>Black</td>\n",
       "      <td>0</td>\n",
       "      <td>0</td>\n",
       "      <td>12.0278</td>\n",
       "      <td>33.6442</td>\n",
       "    </tr>\n",
       "    <tr>\n",
       "      <th>2</th>\n",
       "      <td>218</td>\n",
       "      <td>23</td>\n",
       "      <td>SO-B909-M</td>\n",
       "      <td>Mountain Bike Socks, M</td>\n",
       "      <td>Mountain Bike Socks</td>\n",
       "      <td>Combination of natural and synthetic fibers st...</td>\n",
       "      <td>White</td>\n",
       "      <td>M</td>\n",
       "      <td>U</td>\n",
       "      <td>3.3963</td>\n",
       "      <td>9.5000</td>\n",
       "    </tr>\n",
       "    <tr>\n",
       "      <th>3</th>\n",
       "      <td>219</td>\n",
       "      <td>23</td>\n",
       "      <td>SO-B909-L</td>\n",
       "      <td>Mountain Bike Socks, L</td>\n",
       "      <td>Mountain Bike Socks</td>\n",
       "      <td>Combination of natural and synthetic fibers st...</td>\n",
       "      <td>White</td>\n",
       "      <td>L</td>\n",
       "      <td>U</td>\n",
       "      <td>3.3963</td>\n",
       "      <td>9.5000</td>\n",
       "    </tr>\n",
       "    <tr>\n",
       "      <th>4</th>\n",
       "      <td>220</td>\n",
       "      <td>31</td>\n",
       "      <td>HL-U509-B</td>\n",
       "      <td>Sport-100 Helmet, Blue</td>\n",
       "      <td>Sport-100</td>\n",
       "      <td>Universal fit, well-vented, lightweight , snap...</td>\n",
       "      <td>Blue</td>\n",
       "      <td>0</td>\n",
       "      <td>0</td>\n",
       "      <td>12.0278</td>\n",
       "      <td>33.6442</td>\n",
       "    </tr>\n",
       "  </tbody>\n",
       "</table>\n",
       "</div>"
      ],
      "text/plain": [
       "   ProductKey  ProductSubcategoryKey ProductSKU              ProductName  \\\n",
       "0         214                     31  HL-U509-R    Sport-100 Helmet, Red   \n",
       "1         215                     31    HL-U509  Sport-100 Helmet, Black   \n",
       "2         218                     23  SO-B909-M   Mountain Bike Socks, M   \n",
       "3         219                     23  SO-B909-L   Mountain Bike Socks, L   \n",
       "4         220                     31  HL-U509-B   Sport-100 Helmet, Blue   \n",
       "\n",
       "             ModelName                                 ProductDescription  \\\n",
       "0            Sport-100  Universal fit, well-vented, lightweight , snap...   \n",
       "1            Sport-100  Universal fit, well-vented, lightweight , snap...   \n",
       "2  Mountain Bike Socks  Combination of natural and synthetic fibers st...   \n",
       "3  Mountain Bike Socks  Combination of natural and synthetic fibers st...   \n",
       "4            Sport-100  Universal fit, well-vented, lightweight , snap...   \n",
       "\n",
       "  ProductColor ProductSize ProductStyle  ProductCost  ProductPrice  \n",
       "0          Red           0            0      13.0863       34.9900  \n",
       "1        Black           0            0      12.0278       33.6442  \n",
       "2        White           M            U       3.3963        9.5000  \n",
       "3        White           L            U       3.3963        9.5000  \n",
       "4         Blue           0            0      12.0278       33.6442  "
      ]
     },
     "execution_count": 64,
     "metadata": {},
     "output_type": "execute_result"
    }
   ],
   "source": [
    "df = pd.read_sql_query(query,connection)\n",
    "df.head()"
   ]
  },
  {
   "cell_type": "code",
   "execution_count": null,
   "id": "ae5ff8f8-52b8-4d4e-b26e-ce33126479fb",
   "metadata": {},
   "outputs": [],
   "source": [
    "# Check for missing values and data types; view summary statistics; count null values"
   ]
  },
  {
   "cell_type": "code",
   "execution_count": 66,
   "id": "328d03bb-7a1c-4e88-a5de-3782adc0b9d8",
   "metadata": {},
   "outputs": [
    {
     "name": "stdout",
     "output_type": "stream",
     "text": [
      "<class 'pandas.core.frame.DataFrame'>\n",
      "RangeIndex: 293 entries, 0 to 292\n",
      "Data columns (total 11 columns):\n",
      " #   Column                 Non-Null Count  Dtype  \n",
      "---  ------                 --------------  -----  \n",
      " 0   ProductKey             293 non-null    int64  \n",
      " 1   ProductSubcategoryKey  293 non-null    int64  \n",
      " 2   ProductSKU             293 non-null    object \n",
      " 3   ProductName            293 non-null    object \n",
      " 4   ModelName              293 non-null    object \n",
      " 5   ProductDescription     293 non-null    object \n",
      " 6   ProductColor           293 non-null    object \n",
      " 7   ProductSize            293 non-null    object \n",
      " 8   ProductStyle           293 non-null    object \n",
      " 9   ProductCost            293 non-null    float64\n",
      " 10  ProductPrice           293 non-null    float64\n",
      "dtypes: float64(2), int64(2), object(7)\n",
      "memory usage: 25.3+ KB\n"
     ]
    },
    {
     "data": {
      "text/plain": [
       "ProductKey               0\n",
       "ProductSubcategoryKey    0\n",
       "ProductSKU               0\n",
       "ProductName              0\n",
       "ModelName                0\n",
       "ProductDescription       0\n",
       "ProductColor             0\n",
       "ProductSize              0\n",
       "ProductStyle             0\n",
       "ProductCost              0\n",
       "ProductPrice             0\n",
       "dtype: int64"
      ]
     },
     "execution_count": 66,
     "metadata": {},
     "output_type": "execute_result"
    }
   ],
   "source": [
    "df.info()\n",
    "df.describe()\n",
    "df.isnull().sum()"
   ]
  },
  {
   "cell_type": "code",
   "execution_count": null,
   "id": "4a145b68-f4bf-40e9-931c-cd59cdd1e356",
   "metadata": {},
   "outputs": [],
   "source": [
    "# Query database to retrieve the table AdventureWorks_Product_Catergories and view initial rows of the table"
   ]
  },
  {
   "cell_type": "code",
   "execution_count": 72,
   "id": "7efeead4-2b2b-4d58-a99d-3f221019d103",
   "metadata": {},
   "outputs": [],
   "source": [
    "query= '''SELECT * FROM AdventureWorks_Product_Categories'''"
   ]
  },
  {
   "cell_type": "code",
   "execution_count": 74,
   "id": "338d6985-330a-4782-a097-93ee3495165c",
   "metadata": {},
   "outputs": [
    {
     "data": {
      "text/html": [
       "<div>\n",
       "<style scoped>\n",
       "    .dataframe tbody tr th:only-of-type {\n",
       "        vertical-align: middle;\n",
       "    }\n",
       "\n",
       "    .dataframe tbody tr th {\n",
       "        vertical-align: top;\n",
       "    }\n",
       "\n",
       "    .dataframe thead th {\n",
       "        text-align: right;\n",
       "    }\n",
       "</style>\n",
       "<table border=\"1\" class=\"dataframe\">\n",
       "  <thead>\n",
       "    <tr style=\"text-align: right;\">\n",
       "      <th></th>\n",
       "      <th>ProductCategoryKey</th>\n",
       "      <th>CategoryName</th>\n",
       "    </tr>\n",
       "  </thead>\n",
       "  <tbody>\n",
       "    <tr>\n",
       "      <th>0</th>\n",
       "      <td>1</td>\n",
       "      <td>Bikes</td>\n",
       "    </tr>\n",
       "    <tr>\n",
       "      <th>1</th>\n",
       "      <td>2</td>\n",
       "      <td>Components</td>\n",
       "    </tr>\n",
       "    <tr>\n",
       "      <th>2</th>\n",
       "      <td>3</td>\n",
       "      <td>Clothing</td>\n",
       "    </tr>\n",
       "    <tr>\n",
       "      <th>3</th>\n",
       "      <td>4</td>\n",
       "      <td>Accessories</td>\n",
       "    </tr>\n",
       "  </tbody>\n",
       "</table>\n",
       "</div>"
      ],
      "text/plain": [
       "   ProductCategoryKey CategoryName\n",
       "0                   1        Bikes\n",
       "1                   2   Components\n",
       "2                   3     Clothing\n",
       "3                   4  Accessories"
      ]
     },
     "execution_count": 74,
     "metadata": {},
     "output_type": "execute_result"
    }
   ],
   "source": [
    "df= pd.read_sql_query(query,connection)\n",
    "df.head()"
   ]
  },
  {
   "cell_type": "code",
   "execution_count": null,
   "id": "d15ca8a0-e16e-4671-8e2b-90e572d7b07d",
   "metadata": {},
   "outputs": [],
   "source": [
    "# Check for missing values and data types; view summary statistics; count null values"
   ]
  },
  {
   "cell_type": "code",
   "execution_count": 76,
   "id": "37dd7590-61b6-4cb3-8f22-d759b7a0731f",
   "metadata": {},
   "outputs": [
    {
     "name": "stdout",
     "output_type": "stream",
     "text": [
      "<class 'pandas.core.frame.DataFrame'>\n",
      "RangeIndex: 4 entries, 0 to 3\n",
      "Data columns (total 2 columns):\n",
      " #   Column              Non-Null Count  Dtype \n",
      "---  ------              --------------  ----- \n",
      " 0   ProductCategoryKey  4 non-null      int64 \n",
      " 1   CategoryName        4 non-null      object\n",
      "dtypes: int64(1), object(1)\n",
      "memory usage: 196.0+ bytes\n"
     ]
    },
    {
     "data": {
      "text/plain": [
       "ProductCategoryKey    0\n",
       "CategoryName          0\n",
       "dtype: int64"
      ]
     },
     "execution_count": 76,
     "metadata": {},
     "output_type": "execute_result"
    }
   ],
   "source": [
    "df.info()\n",
    "df.describe()\n",
    "df.isnull().sum()"
   ]
  },
  {
   "cell_type": "code",
   "execution_count": null,
   "id": "9dd6aa58-3982-416e-b18c-70c5fc908db3",
   "metadata": {},
   "outputs": [],
   "source": [
    "# Query database to retrieve the table AdventureWorks_Product_Subcatergories and view initial rows of the table"
   ]
  },
  {
   "cell_type": "code",
   "execution_count": 84,
   "id": "a0dc89c6-4b7f-49be-b16c-d772944ba965",
   "metadata": {},
   "outputs": [],
   "source": [
    "query= '''select * from AdventureWorks_Product_Subcategories'''"
   ]
  },
  {
   "cell_type": "code",
   "execution_count": 86,
   "id": "5b0c9aa5-4ed0-4edb-9f5e-d39f3a9471b9",
   "metadata": {},
   "outputs": [],
   "source": [
    "df= pd.read_sql_query(query,connection)"
   ]
  },
  {
   "cell_type": "code",
   "execution_count": 88,
   "id": "3c0d1774-ae6f-4623-ba98-b168406a3b93",
   "metadata": {},
   "outputs": [
    {
     "data": {
      "text/html": [
       "<div>\n",
       "<style scoped>\n",
       "    .dataframe tbody tr th:only-of-type {\n",
       "        vertical-align: middle;\n",
       "    }\n",
       "\n",
       "    .dataframe tbody tr th {\n",
       "        vertical-align: top;\n",
       "    }\n",
       "\n",
       "    .dataframe thead th {\n",
       "        text-align: right;\n",
       "    }\n",
       "</style>\n",
       "<table border=\"1\" class=\"dataframe\">\n",
       "  <thead>\n",
       "    <tr style=\"text-align: right;\">\n",
       "      <th></th>\n",
       "      <th>ProductSubcategoryKey</th>\n",
       "      <th>SubcategoryName</th>\n",
       "      <th>ProductCategoryKey</th>\n",
       "    </tr>\n",
       "  </thead>\n",
       "  <tbody>\n",
       "    <tr>\n",
       "      <th>0</th>\n",
       "      <td>1</td>\n",
       "      <td>Mountain Bikes</td>\n",
       "      <td>1</td>\n",
       "    </tr>\n",
       "    <tr>\n",
       "      <th>1</th>\n",
       "      <td>2</td>\n",
       "      <td>Road Bikes</td>\n",
       "      <td>1</td>\n",
       "    </tr>\n",
       "    <tr>\n",
       "      <th>2</th>\n",
       "      <td>3</td>\n",
       "      <td>Touring Bikes</td>\n",
       "      <td>1</td>\n",
       "    </tr>\n",
       "    <tr>\n",
       "      <th>3</th>\n",
       "      <td>4</td>\n",
       "      <td>Handlebars</td>\n",
       "      <td>2</td>\n",
       "    </tr>\n",
       "    <tr>\n",
       "      <th>4</th>\n",
       "      <td>5</td>\n",
       "      <td>Bottom Brackets</td>\n",
       "      <td>2</td>\n",
       "    </tr>\n",
       "  </tbody>\n",
       "</table>\n",
       "</div>"
      ],
      "text/plain": [
       "   ProductSubcategoryKey  SubcategoryName  ProductCategoryKey\n",
       "0                      1   Mountain Bikes                   1\n",
       "1                      2       Road Bikes                   1\n",
       "2                      3    Touring Bikes                   1\n",
       "3                      4       Handlebars                   2\n",
       "4                      5  Bottom Brackets                   2"
      ]
     },
     "execution_count": 88,
     "metadata": {},
     "output_type": "execute_result"
    }
   ],
   "source": [
    "df.head()\n"
   ]
  },
  {
   "cell_type": "code",
   "execution_count": null,
   "id": "b35d5ef3-45be-4c7f-8609-5a7b4108bba8",
   "metadata": {},
   "outputs": [],
   "source": [
    "# Check for missing values and data types; view summary statistics; count null values"
   ]
  },
  {
   "cell_type": "code",
   "execution_count": 90,
   "id": "37a8991c-529b-4fba-a146-3c4fb807f847",
   "metadata": {},
   "outputs": [
    {
     "name": "stdout",
     "output_type": "stream",
     "text": [
      "<class 'pandas.core.frame.DataFrame'>\n",
      "RangeIndex: 37 entries, 0 to 36\n",
      "Data columns (total 3 columns):\n",
      " #   Column                 Non-Null Count  Dtype \n",
      "---  ------                 --------------  ----- \n",
      " 0   ProductSubcategoryKey  37 non-null     int64 \n",
      " 1   SubcategoryName        37 non-null     object\n",
      " 2   ProductCategoryKey     37 non-null     int64 \n",
      "dtypes: int64(2), object(1)\n",
      "memory usage: 1020.0+ bytes\n"
     ]
    },
    {
     "data": {
      "text/plain": [
       "ProductSubcategoryKey    0\n",
       "SubcategoryName          0\n",
       "ProductCategoryKey       0\n",
       "dtype: int64"
      ]
     },
     "execution_count": 90,
     "metadata": {},
     "output_type": "execute_result"
    }
   ],
   "source": [
    "df.info()\n",
    "df.describe()\n",
    "df.isnull().sum()"
   ]
  },
  {
   "cell_type": "code",
   "execution_count": null,
   "id": "c948f960-79fa-446c-b80f-43b060b0ea8b",
   "metadata": {},
   "outputs": [],
   "source": [
    "# Query database to retrieve the table AdventureWorks_Sales and view initial rows of the table"
   ]
  },
  {
   "cell_type": "code",
   "execution_count": 92,
   "id": "831371f5-1309-42bb-b8fa-caf4e04f881c",
   "metadata": {},
   "outputs": [],
   "source": [
    "query = '''select* from AdventureWorks_Sales'''"
   ]
  },
  {
   "cell_type": "code",
   "execution_count": 94,
   "id": "70b74daf-1f16-499b-9989-000fe94d6511",
   "metadata": {},
   "outputs": [
    {
     "data": {
      "text/html": [
       "<div>\n",
       "<style scoped>\n",
       "    .dataframe tbody tr th:only-of-type {\n",
       "        vertical-align: middle;\n",
       "    }\n",
       "\n",
       "    .dataframe tbody tr th {\n",
       "        vertical-align: top;\n",
       "    }\n",
       "\n",
       "    .dataframe thead th {\n",
       "        text-align: right;\n",
       "    }\n",
       "</style>\n",
       "<table border=\"1\" class=\"dataframe\">\n",
       "  <thead>\n",
       "    <tr style=\"text-align: right;\">\n",
       "      <th></th>\n",
       "      <th>OrderDate</th>\n",
       "      <th>StockDate</th>\n",
       "      <th>OrderNumber</th>\n",
       "      <th>ProductKey</th>\n",
       "      <th>CustomerKey</th>\n",
       "      <th>TerritoryKey</th>\n",
       "      <th>OrderLineItem</th>\n",
       "      <th>OrderQuantity</th>\n",
       "      <th>Region</th>\n",
       "    </tr>\n",
       "  </thead>\n",
       "  <tbody>\n",
       "    <tr>\n",
       "      <th>0</th>\n",
       "      <td>1/1/2015</td>\n",
       "      <td>9/21/2001</td>\n",
       "      <td>SO45080</td>\n",
       "      <td>332</td>\n",
       "      <td>14657</td>\n",
       "      <td>1</td>\n",
       "      <td>1</td>\n",
       "      <td>1</td>\n",
       "      <td>United States NorthWest</td>\n",
       "    </tr>\n",
       "    <tr>\n",
       "      <th>1</th>\n",
       "      <td>1/1/2015</td>\n",
       "      <td>12/5/2001</td>\n",
       "      <td>SO45079</td>\n",
       "      <td>312</td>\n",
       "      <td>29255</td>\n",
       "      <td>4</td>\n",
       "      <td>1</td>\n",
       "      <td>1</td>\n",
       "      <td>United States SouthWest</td>\n",
       "    </tr>\n",
       "    <tr>\n",
       "      <th>2</th>\n",
       "      <td>1/1/2015</td>\n",
       "      <td>10/29/2001</td>\n",
       "      <td>SO45082</td>\n",
       "      <td>350</td>\n",
       "      <td>11455</td>\n",
       "      <td>9</td>\n",
       "      <td>1</td>\n",
       "      <td>1</td>\n",
       "      <td>Australia</td>\n",
       "    </tr>\n",
       "    <tr>\n",
       "      <th>3</th>\n",
       "      <td>1/1/2015</td>\n",
       "      <td>11/16/2001</td>\n",
       "      <td>SO45081</td>\n",
       "      <td>338</td>\n",
       "      <td>26782</td>\n",
       "      <td>6</td>\n",
       "      <td>1</td>\n",
       "      <td>1</td>\n",
       "      <td>Canada</td>\n",
       "    </tr>\n",
       "    <tr>\n",
       "      <th>4</th>\n",
       "      <td>1/2/2015</td>\n",
       "      <td>12/15/2001</td>\n",
       "      <td>SO45083</td>\n",
       "      <td>312</td>\n",
       "      <td>14947</td>\n",
       "      <td>10</td>\n",
       "      <td>1</td>\n",
       "      <td>1</td>\n",
       "      <td>United Kingdom</td>\n",
       "    </tr>\n",
       "  </tbody>\n",
       "</table>\n",
       "</div>"
      ],
      "text/plain": [
       "  OrderDate   StockDate OrderNumber  ProductKey  CustomerKey  TerritoryKey  \\\n",
       "0  1/1/2015   9/21/2001     SO45080         332        14657             1   \n",
       "1  1/1/2015   12/5/2001     SO45079         312        29255             4   \n",
       "2  1/1/2015  10/29/2001     SO45082         350        11455             9   \n",
       "3  1/1/2015  11/16/2001     SO45081         338        26782             6   \n",
       "4  1/2/2015  12/15/2001     SO45083         312        14947            10   \n",
       "\n",
       "   OrderLineItem  OrderQuantity                   Region  \n",
       "0              1              1  United States NorthWest  \n",
       "1              1              1  United States SouthWest  \n",
       "2              1              1                Australia  \n",
       "3              1              1                   Canada  \n",
       "4              1              1           United Kingdom  "
      ]
     },
     "execution_count": 94,
     "metadata": {},
     "output_type": "execute_result"
    }
   ],
   "source": [
    "df = pd.read_sql_query(query,connection)\n",
    "df.head()"
   ]
  },
  {
   "cell_type": "code",
   "execution_count": null,
   "id": "ac2ab5c2-5a32-442f-b118-fdbf6467c564",
   "metadata": {},
   "outputs": [],
   "source": [
    "# Check for missing values and data types; view summary statistics; count null values"
   ]
  },
  {
   "cell_type": "code",
   "execution_count": 96,
   "id": "3b9cc3cf-83cb-4112-b65b-d56ffc01bf26",
   "metadata": {},
   "outputs": [
    {
     "name": "stdout",
     "output_type": "stream",
     "text": [
      "<class 'pandas.core.frame.DataFrame'>\n",
      "RangeIndex: 56046 entries, 0 to 56045\n",
      "Data columns (total 9 columns):\n",
      " #   Column         Non-Null Count  Dtype \n",
      "---  ------         --------------  ----- \n",
      " 0   OrderDate      56046 non-null  object\n",
      " 1   StockDate      56046 non-null  object\n",
      " 2   OrderNumber    56046 non-null  object\n",
      " 3   ProductKey     56046 non-null  int64 \n",
      " 4   CustomerKey    56046 non-null  int64 \n",
      " 5   TerritoryKey   56046 non-null  int64 \n",
      " 6   OrderLineItem  56046 non-null  int64 \n",
      " 7   OrderQuantity  56046 non-null  int64 \n",
      " 8   Region         56046 non-null  object\n",
      "dtypes: int64(5), object(4)\n",
      "memory usage: 3.8+ MB\n"
     ]
    },
    {
     "data": {
      "text/plain": [
       "OrderDate        0\n",
       "StockDate        0\n",
       "OrderNumber      0\n",
       "ProductKey       0\n",
       "CustomerKey      0\n",
       "TerritoryKey     0\n",
       "OrderLineItem    0\n",
       "OrderQuantity    0\n",
       "Region           0\n",
       "dtype: int64"
      ]
     },
     "execution_count": 96,
     "metadata": {},
     "output_type": "execute_result"
    }
   ],
   "source": [
    "df.info()\n",
    "df.describe()\n",
    "df.isnull().sum()"
   ]
  },
  {
   "cell_type": "code",
   "execution_count": null,
   "id": "b1fde24f-be6e-409c-a3a1-95d1d2e75d18",
   "metadata": {},
   "outputs": [],
   "source": [
    "# Check for duplicate rows"
   ]
  },
  {
   "cell_type": "code",
   "execution_count": 98,
   "id": "60896602-63eb-4500-b032-4a44d1e450e8",
   "metadata": {},
   "outputs": [
    {
     "name": "stdout",
     "output_type": "stream",
     "text": [
      "Empty DataFrame\n",
      "Columns: [OrderDate, StockDate, OrderNumber, ProductKey, CustomerKey, TerritoryKey, OrderLineItem, OrderQuantity, Region]\n",
      "Index: []\n"
     ]
    }
   ],
   "source": [
    "duplicate_rows = df[df.duplicated()]\n",
    "print(duplicate_rows)"
   ]
  },
  {
   "cell_type": "code",
   "execution_count": null,
   "id": "f0b8ca74-7c3b-42e8-a000-485b9ec4feb0",
   "metadata": {},
   "outputs": [],
   "source": [
    "# Converting Datatypes"
   ]
  },
  {
   "cell_type": "code",
   "execution_count": 100,
   "id": "07948bf4-4633-464b-b369-6436d16006cd",
   "metadata": {},
   "outputs": [],
   "source": [
    "df['CustomerKey'] = pd.to_numeric(df['CustomerKey'], errors = 'coerce')"
   ]
  },
  {
   "cell_type": "code",
   "execution_count": 102,
   "id": "22ee25a9-84a5-4e26-9072-b5a62a0325b8",
   "metadata": {},
   "outputs": [],
   "source": [
    "df['OrderLineItem'] = pd.to_numeric(df['OrderLineItem'], errors = 'coerce')\n",
    "df['TerritoryKey'] = pd.to_numeric(df['TerritoryKey'], errors = 'coerce')\n",
    "df['ProductKey'] = pd.to_numeric(df['ProductKey'], errors = 'coerce')\n",
    "df['OrderQuantity'] = pd.to_numeric(df['OrderQuantity'], errors = 'coerce')\n",
    "df['OrderDate'] = pd.to_datetime(df['OrderDate'], errors = 'coerce')\n",
    "df['StockDate'] = pd.to_datetime(df['StockDate'], errors = 'coerce')"
   ]
  },
  {
   "cell_type": "code",
   "execution_count": null,
   "id": "234bacbe-ae4d-4218-b3bd-657a75926cce",
   "metadata": {},
   "outputs": [],
   "source": [
    "# checking  for unique values"
   ]
  },
  {
   "cell_type": "code",
   "execution_count": 104,
   "id": "96fa3a3c-1b39-4a5e-95f8-8e320c5b524e",
   "metadata": {},
   "outputs": [
    {
     "name": "stdout",
     "output_type": "stream",
     "text": [
      "OrderNumber has unique values :False\n"
     ]
    }
   ],
   "source": [
    "unique_values = df['OrderNumber'].is_unique\n",
    "print(f\"OrderNumber has unique values :{unique_values}\")"
   ]
  },
  {
   "cell_type": "code",
   "execution_count": null,
   "id": "dcbe6ab7-3e4d-46b8-b54f-83a2c2fd4e6d",
   "metadata": {},
   "outputs": [],
   "source": [
    "# Listing unique values"
   ]
  },
  {
   "cell_type": "code",
   "execution_count": 106,
   "id": "5e69cbf9-248b-40b3-928b-9ff1c45c6ad0",
   "metadata": {},
   "outputs": [
    {
     "name": "stdout",
     "output_type": "stream",
     "text": [
      "['SO45080' 'SO45079' 'SO45082' ... 'SO74105' 'SO74143' 'SO74124']\n"
     ]
    }
   ],
   "source": [
    "unique_values = df['OrderNumber'].unique()\n",
    "print(unique_values)"
   ]
  },
  {
   "cell_type": "code",
   "execution_count": null,
   "id": "75689b97-ff64-4b7c-883b-568a751078c9",
   "metadata": {},
   "outputs": [],
   "source": [
    "# counting unique values"
   ]
  },
  {
   "cell_type": "code",
   "execution_count": 108,
   "id": "8b73fe30-ad39-4144-a4e6-420fabd3b9e3",
   "metadata": {},
   "outputs": [
    {
     "name": "stdout",
     "output_type": "stream",
     "text": [
      "25164\n"
     ]
    }
   ],
   "source": [
    "num_unique_values = df['OrderNumber'].nunique()\n",
    "print(num_unique_values)"
   ]
  },
  {
   "cell_type": "code",
   "execution_count": null,
   "id": "20170abf-8a76-4025-a553-ede2b9111aa7",
   "metadata": {},
   "outputs": [],
   "source": []
  }
 ],
 "metadata": {
  "kernelspec": {
   "display_name": "Python 3 (ipykernel)",
   "language": "python",
   "name": "python3"
  },
  "language_info": {
   "codemirror_mode": {
    "name": "ipython",
    "version": 3
   },
   "file_extension": ".py",
   "mimetype": "text/x-python",
   "name": "python",
   "nbconvert_exporter": "python",
   "pygments_lexer": "ipython3",
   "version": "3.12.4"
  }
 },
 "nbformat": 4,
 "nbformat_minor": 5
}
