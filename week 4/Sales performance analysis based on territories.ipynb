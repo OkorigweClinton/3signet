{
 "cells": [
  {
   "cell_type": "code",
   "execution_count": 36,
   "id": "f30fd135-10e6-40b9-b963-63ca8cef0dd1",
   "metadata": {},
   "outputs": [],
   "source": [
    "import sqlite3 as sql\n",
    "import pandas as pd"
   ]
  },
  {
   "cell_type": "code",
   "execution_count": null,
   "id": "6127580e-46e0-48dd-9b68-1edce501670a",
   "metadata": {},
   "outputs": [],
   "source": [
    "# 1. Establish a connection to the SQLite Database"
   ]
  },
  {
   "cell_type": "code",
   "execution_count": 38,
   "id": "029359dc-fd9c-4b76-8bd1-25a88a0c0359",
   "metadata": {},
   "outputs": [],
   "source": [
    "conn = sql.connect('adventure works new.db')\n",
    "cursor = conn.cursor()"
   ]
  },
  {
   "cell_type": "code",
   "execution_count": null,
   "id": "21d0998e-c0f8-4653-86ae-0eed95d06efd",
   "metadata": {},
   "outputs": [],
   "source": [
    "# 2. Write a SQL query to retrieve the sales and territory data and group the resulting data"
   ]
  },
  {
   "cell_type": "code",
   "execution_count": 40,
   "id": "2d8975f6-a62f-4158-8d3c-a5a20ab58b58",
   "metadata": {},
   "outputs": [],
   "source": [
    "query= ''' select\n",
    "TerritoryKey, Region, SUM(OrderValue) as TotalSales\n",
    "from Demographics_update\n",
    "group by TerritoryKey, Region'''"
   ]
  },
  {
   "cell_type": "code",
   "execution_count": null,
   "id": "e50d7b96-5aaf-4093-a6a2-01ec642e2ab9",
   "metadata": {},
   "outputs": [],
   "source": [
    "#3. Load the data into a Pandas dataframe"
   ]
  },
  {
   "cell_type": "code",
   "execution_count": 42,
   "id": "292c3920-7d54-4d62-932a-3e965d33626e",
   "metadata": {},
   "outputs": [],
   "source": [
    "df=pd.read_sql_query(query,conn)"
   ]
  },
  {
   "cell_type": "code",
   "execution_count": null,
   "id": "7a46b461-0c3d-431e-be98-6d96cd037598",
   "metadata": {},
   "outputs": [],
   "source": [
    "# 4. Check the datatypes to ensure they are the correct types"
   ]
  },
  {
   "cell_type": "code",
   "execution_count": 44,
   "id": "2e6217eb-f4ca-44b8-bc2b-ae06aa512779",
   "metadata": {},
   "outputs": [
    {
     "name": "stdout",
     "output_type": "stream",
     "text": [
      "TerritoryKey      int64\n",
      "Region           object\n",
      "TotalSales      float64\n",
      "dtype: object\n"
     ]
    }
   ],
   "source": [
    "print(df.dtypes)"
   ]
  },
  {
   "cell_type": "code",
   "execution_count": null,
   "id": "557bfaca-8e74-4243-9ccb-e45bb0db88ae",
   "metadata": {},
   "outputs": [],
   "source": [
    "# 4.1 View the entire table to look at the regions and their total sales"
   ]
  },
  {
   "cell_type": "code",
   "execution_count": 60,
   "id": "e259a7bd-137d-4a8b-ba83-199497cda345",
   "metadata": {},
   "outputs": [
    {
     "name": "stdout",
     "output_type": "stream",
     "text": [
      "   TerritoryKey                   Region  TotalSales\n",
      "0             1  United States NorthWest  3095074.30\n",
      "1             2  United States NorthEast     6401.56\n",
      "2             3    United States Central     3143.06\n",
      "3             4  United States SouthWest  4822794.68\n",
      "4             5  United States SouthEast    11585.63\n",
      "5             6                   Canada  1769245.47\n",
      "6             7                   France  2362642.77\n",
      "7             8                  Germany  2524679.60\n",
      "8             9                Australia  7416455.01\n",
      "9            10           United Kingdom  2902561.58\n"
     ]
    }
   ],
   "source": [
    "print(df)"
   ]
  },
  {
   "cell_type": "code",
   "execution_count": null,
   "id": "337dbb89-359e-419e-8bcd-c79a264adb9a",
   "metadata": {},
   "outputs": [],
   "source": [
    "# 5. Analyse sales performance by Region"
   ]
  },
  {
   "cell_type": "code",
   "execution_count": 46,
   "id": "63132f8b-60f9-438c-b0fa-5bf812c858c7",
   "metadata": {},
   "outputs": [],
   "source": [
    "high_performing_regions = df[df['TotalSales'] == df['TotalSales'].max()]\n",
    "low_performing_regions = df[df['TotalSales'] == df['TotalSales'].min()]"
   ]
  },
  {
   "cell_type": "code",
   "execution_count": null,
   "id": "1e253b27-3a8e-4f73-9857-72de5eec448b",
   "metadata": {},
   "outputs": [],
   "source": [
    "# 6. Retrive result for highest performing region, highest performing region is Australia"
   ]
  },
  {
   "cell_type": "code",
   "execution_count": 48,
   "id": "268e289b-0e9a-4fba-b287-9c7955878f44",
   "metadata": {},
   "outputs": [
    {
     "name": "stdout",
     "output_type": "stream",
     "text": [
      "\n",
      "High-performing region(s):\n",
      "   TerritoryKey     Region  TotalSales\n",
      "8             9  Australia  7416455.01\n"
     ]
    }
   ],
   "source": [
    "print(\"\\nHigh-performing region(s):\")\n",
    "print(high_performing_regions)"
   ]
  },
  {
   "cell_type": "code",
   "execution_count": null,
   "id": "a12441e8-172e-4eaa-a586-fca2bf7734a9",
   "metadata": {},
   "outputs": [],
   "source": [
    "# 7. Retrive result for lowest performing region, lowest performing region is United States Central"
   ]
  },
  {
   "cell_type": "code",
   "execution_count": 50,
   "id": "53a5bdc4-1487-4b88-b73f-e8888578ca1d",
   "metadata": {},
   "outputs": [
    {
     "name": "stdout",
     "output_type": "stream",
     "text": [
      "\n",
      "Low-performing region(s):\n",
      "   TerritoryKey                 Region  TotalSales\n",
      "2             3  United States Central     3143.06\n"
     ]
    }
   ],
   "source": [
    "print(\"\\nLow-performing region(s):\")\n",
    "print(low_performing_regions)"
   ]
  },
  {
   "cell_type": "code",
   "execution_count": null,
   "id": "958cdd5a-b6bc-4878-89c0-4f92b47f16e7",
   "metadata": {},
   "outputs": [],
   "source": [
    "# 8. Import matplotlib for visualization of the resulting data"
   ]
  },
  {
   "cell_type": "code",
   "execution_count": 52,
   "id": "76ed37de-838a-45b9-b239-69a4bf4a107a",
   "metadata": {},
   "outputs": [],
   "source": [
    "import matplotlib.pyplot as plt"
   ]
  },
  {
   "cell_type": "code",
   "execution_count": 54,
   "id": "511c8385-54ae-4519-8512-40f619a2915f",
   "metadata": {},
   "outputs": [
    {
     "data": {
      "text/plain": [
       "<Figure size 1000x600 with 0 Axes>"
      ]
     },
     "metadata": {},
     "output_type": "display_data"
    },
    {
     "data": {
      "image/png": "[encoded data removed]",
      "text/plain": [
       "<Figure size 640x480 with 1 Axes>"
      ]
     },
     "metadata": {},
     "output_type": "display_data"
    }
   ],
   "source": [
    "plt.figure(figsize = (10,6))\n",
    "df.plot(kind = 'bar', x='Region', y='TotalSales', legend = False)\n",
    "plt.title('Sales Performance by Region')\n",
    "plt.ylabel('Total Sales')\n",
    "plt.xlabel('Region')\n",
    "plt.xticks(rotation = 90, fontsize = 8)\n",
    "plt.tight_layout()\n",
    "plt.savefig(\"Sales Performance by Region.png\", dpi = 300)\n",
    "plt.show()"
   ]
  },
  {
   "cell_type": "code",
   "execution_count": null,
   "id": "7cc349aa-712b-441a-a853-c662edd829a1",
   "metadata": {},
   "outputs": [],
   "source": [
    "# 9. Close the connection"
   ]
  },
  {
   "cell_type": "code",
   "execution_count": 30,
   "id": "24d739d2-d00d-429e-855c-3d556cfacfef",
   "metadata": {},
   "outputs": [],
   "source": [
    "conn.close()"
   ]
  },
  {
   "cell_type": "code",
   "execution_count": null,
   "id": "d3d6c6cf-01ed-45f4-a337-6ab247d26ce6",
   "metadata": {},
   "outputs": [],
   "source": []
  }
 ],
 "metadata": {
  "kernelspec": {
   "display_name": "Python 3 (ipykernel)",
   "language": "python",
   "name": "python3"
  },
  "language_info": {
   "codemirror_mode": {
    "name": "ipython",
    "version": 3
   },
   "file_extension": ".py",
   "mimetype": "text/x-python",
   "name": "python",
   "nbconvert_exporter": "python",
   "pygments_lexer": "ipython3",
   "version": "3.12.4"
  }
 },
 "nbformat": 4,
 "nbformat_minor": 5
}
