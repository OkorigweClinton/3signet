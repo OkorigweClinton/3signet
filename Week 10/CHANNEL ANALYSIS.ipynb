{
 "cells": [
  {
   "cell_type": "code",
   "execution_count": null,
   "id": "35d83e8b-0099-44e7-9705-a03780178d6e",
   "metadata": {},
   "outputs": [],
   "source": [
    "# Import relevant libraries"
   ]
  },
  {
   "cell_type": "code",
   "execution_count": 9,
   "id": "88f1e264-01c8-4ed0-8089-61d78a9fd842",
   "metadata": {},
   "outputs": [],
   "source": [
    "import geopandas as gpd\n",
    "from folium import Map, CircleMarker\n",
    "import pandas as pd\n",
    "import sqlite3 as sql\n",
    "import matplotlib.pyplot as plt\n",
    "import seaborn as sns"
   ]
  },
  {
   "cell_type": "code",
   "execution_count": null,
   "id": "03d72e83-3358-4960-bebd-413f4e86a74d",
   "metadata": {},
   "outputs": [],
   "source": [
    "# connect to sqlite database"
   ]
  },
  {
   "cell_type": "code",
   "execution_count": 10,
   "id": "d65b6569-4ac5-4a44-9f27-dc0754e55282",
   "metadata": {},
   "outputs": [],
   "source": [
    "db_path = 'pharm_data.db'\n",
    "conn = sql.connect(db_path)"
   ]
  },
  {
   "cell_type": "code",
   "execution_count": null,
   "id": "c588a4a1-b1e1-4aeb-8ca4-44fcfcc71599",
   "metadata": {},
   "outputs": [],
   "source": [
    "# Query database to retrieve sales data "
   ]
  },
  {
   "cell_type": "code",
   "execution_count": 11,
   "id": "908cf761-3520-4577-af26-7bd4659cc309",
   "metadata": {},
   "outputs": [],
   "source": [
    "query = \"\"\" \n",
    "SELECT *\n",
    "FROM Pharm_Sales\n",
    "WHERE Sales > 0; \n",
    "\"\"\"\n",
    "sales_data= pd.read_sql_query(query, conn)\n"
   ]
  },
  {
   "cell_type": "code",
   "execution_count": null,
   "id": "cc9ae215-5d12-4a32-8b35-79ac961718d2",
   "metadata": {},
   "outputs": [],
   "source": [
    "# Bar plot to analyse the different channels"
   ]
  },
  {
   "cell_type": "code",
   "execution_count": 12,
   "id": "b3825a32-517c-4bcc-9cf6-9b40768e4781",
   "metadata": {},
   "outputs": [
    {
     "data": {
      "text/plain": [
       "<Axes: xlabel='Channel', ylabel='Sales'>"
      ]
     },
     "execution_count": 12,
     "metadata": {},
     "output_type": "execute_result"
    },
    {
     "data": {
      "image/png": "[encoded data removed]",
      "text/plain": [
       "<Figure size 640x480 with 1 Axes>"
      ]
     },
     "metadata": {},
     "output_type": "display_data"
    }
   ],
   "source": [
    "channel_data = sales_data.groupby('Channel').agg({'Sales' :'sum'}).reset_index()\n",
    "sns.barplot(x='Channel', y='Sales', data=channel_data)"
   ]
  },
  {
   "cell_type": "code",
   "execution_count": null,
   "id": "13f803eb-53a1-4537-9695-7328ed3ac2ad",
   "metadata": {},
   "outputs": [],
   "source": [
    "#This bar chart compares sales performance across two channels: Hospitals and Pharmacies. Here are the key takeaways:\n",
    "\n",
    "#Observations:\n",
    " # Sales Volume:Pharmacies have slightly higher total sales than Hospitals, as indicated by the taller bar.Both channels generate significant sales volumes, exceeding 6×10^9(6 billion)\n",
    "\n",
    "#Comparison: The sales difference between the two channels is relatively small but noticeable. This suggests that both channels are critical for revenue generation."
   ]
  }
 ],
 "metadata": {
  "kernelspec": {
   "display_name": "Python 3 (ipykernel)",
   "language": "python",
   "name": "python3"
  },
  "language_info": {
   "codemirror_mode": {
    "name": "ipython",
    "version": 3
   },
   "file_extension": ".py",
   "mimetype": "text/x-python",
   "name": "python",
   "nbconvert_exporter": "python",
   "pygments_lexer": "ipython3",
   "version": "3.12.4"
  }
 },
 "nbformat": 4,
 "nbformat_minor": 5
}
