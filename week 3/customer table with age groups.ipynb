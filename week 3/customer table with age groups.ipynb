{
 "cells": [
  {
   "cell_type": "code",
   "execution_count": 1,
   "id": "2afac050-eab7-4372-83f8-9a93a7a584e1",
   "metadata": {},
   "outputs": [],
   "source": [
    "import sqlite3 as sql\n",
    "import pandas as pd\n",
    "from datetime import datetime"
   ]
  },
  {
   "cell_type": "code",
   "execution_count": 3,
   "id": "940c8ad4-4177-43b0-a3e2-8c323031a07e",
   "metadata": {},
   "outputs": [],
   "source": [
    "conn = sql.connect('adventure works new.db')"
   ]
  },
  {
   "cell_type": "code",
   "execution_count": 5,
   "id": "df7b2e53-6fca-4d77-9984-7727c04e1963",
   "metadata": {},
   "outputs": [],
   "source": [
    "def run_query(query): return pd.read_sql_query(query, conn)"
   ]
  },
  {
   "cell_type": "code",
   "execution_count": 9,
   "id": "e1ffea59-da1f-4ef7-b981-c98023226656",
   "metadata": {},
   "outputs": [],
   "source": [
    "customer_query = \"\"\"select CustomerKey, BirthDate from AdventureWorks_Customers\"\"\""
   ]
  },
  {
   "cell_type": "code",
   "execution_count": 11,
   "id": "8b7bfae1-0150-425a-b831-db911bcf7e2b",
   "metadata": {},
   "outputs": [],
   "source": [
    "customers_df= run_query(customer_query)"
   ]
  },
  {
   "cell_type": "code",
   "execution_count": 17,
   "id": "9e90f039-78b7-4368-8af2-f5dbce266df5",
   "metadata": {},
   "outputs": [],
   "source": [
    "customers_df['BirthDate'] = pd.to_datetime(customers_df['BirthDate'])"
   ]
  },
  {
   "cell_type": "code",
   "execution_count": 19,
   "id": "7fccbbca-d535-482f-a663-793aec97d432",
   "metadata": {},
   "outputs": [],
   "source": [
    "current_year = datetime.now().year\n",
    "customers_df['age'] = current_year - customers_df['BirthDate'].dt.year"
   ]
  },
  {
   "cell_type": "code",
   "execution_count": 21,
   "id": "d9b18c16-055c-4952-9abf-90ab9d167ba2",
   "metadata": {},
   "outputs": [],
   "source": [
    "current_date = datetime.now()\n",
    "customers_df['age'] -=((customers_df['BirthDate'].dt.month > current_date.month)|\n",
    "                       ((customers_df['BirthDate'].dt.month == current_date.month) &\n",
    "                        (customers_df['BirthDate'].dt.day > current_date.day)))"
   ]
  },
  {
   "cell_type": "code",
   "execution_count": 23,
   "id": "77129c80-9257-4c36-884a-0a0ead836ef3",
   "metadata": {},
   "outputs": [],
   "source": [
    "age_bins = [0, 17, 24, 34, 44, 54, 64, 100]\n",
    "age_labels = ['Under 18', '18-24', '25-34', '35-44', '45-54', '55-64', '65+']\n",
    "\n",
    "customers_df['age_group'] = pd.cut(customers_df['age'], bins=age_bins, labels=age_labels, right = True)"
   ]
  },
  {
   "cell_type": "code",
   "execution_count": 29,
   "id": "9f9b19d8-fb2a-4fe1-8409-e028ac8321ae",
   "metadata": {},
   "outputs": [
    {
     "name": "stdout",
     "output_type": "stream",
     "text": [
      "       CustomerKey  BirthDate  age age_group\n",
      "0            11000 1966-04-08   58     55-64\n",
      "1            11001 1965-05-14   59     55-64\n",
      "2            11002 1965-08-12   59     55-64\n",
      "3            11003 1968-02-15   56     55-64\n",
      "4            11004 1968-08-08   56     55-64\n",
      "...            ...        ...  ...       ...\n",
      "18143        29479 1958-07-04   66       65+\n",
      "18144        29480 1960-11-10   63     55-64\n",
      "18145        29481 1960-01-05   64     55-64\n",
      "18146        29482 1959-03-05   65       65+\n",
      "18147        29483 1959-12-08   64     55-64\n",
      "\n",
      "[18148 rows x 4 columns]\n"
     ]
    }
   ],
   "source": [
    "print(customers_df[['CustomerKey', 'BirthDate', 'age', 'age_group']])"
   ]
  },
  {
   "cell_type": "code",
   "execution_count": 39,
   "id": "27010184-a3f4-42b3-bdc1-4144c5c2d9bc",
   "metadata": {},
   "outputs": [],
   "source": [
    "customers_df.to_csv('Customer_data_with_age_groups.csv', index = False)"
   ]
  },
  {
   "cell_type": "code",
   "execution_count": 41,
   "id": "7407c04a-ad00-4ea2-8f12-31c33c42b7c6",
   "metadata": {},
   "outputs": [
    {
     "data": {
      "text/plain": [
       "<function Connection.close()>"
      ]
     },
     "execution_count": 41,
     "metadata": {},
     "output_type": "execute_result"
    }
   ],
   "source": [
    "conn.close"
   ]
  },
  {
   "cell_type": "code",
   "execution_count": null,
   "id": "3f62b0b1-42a3-47f7-a895-33ca522c3881",
   "metadata": {},
   "outputs": [],
   "source": []
  }
 ],
 "metadata": {
  "kernelspec": {
   "display_name": "Python 3 (ipykernel)",
   "language": "python",
   "name": "python3"
  },
  "language_info": {
   "codemirror_mode": {
    "name": "ipython",
    "version": 3
   },
   "file_extension": ".py",
   "mimetype": "text/x-python",
   "name": "python",
   "nbconvert_exporter": "python",
   "pygments_lexer": "ipython3",
   "version": "3.12.4"
  }
 },
 "nbformat": 4,
 "nbformat_minor": 5
}
