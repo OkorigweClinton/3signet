{
 "cells": [
  {
   "cell_type": "code",
   "execution_count": 1,
   "id": "0cd3cd66-6919-422b-b32a-348b2165af55",
   "metadata": {},
   "outputs": [],
   "source": [
    "import pandas as pd\n",
    "from datetime import datetime\n",
    "import sqlite3 as sql"
   ]
  },
  {
   "cell_type": "code",
   "execution_count": 7,
   "id": "2439265c-54cf-4075-92ee-3ac32ac8516f",
   "metadata": {},
   "outputs": [],
   "source": [
    "conn = sql.connect('adventure works new.db')"
   ]
  },
  {
   "cell_type": "code",
   "execution_count": 9,
   "id": "b9fb289b-bb19-4e56-87fa-de134d55de52",
   "metadata": {},
   "outputs": [],
   "source": [
    "def run_query(query): return pd.read_sql_query(query,conn)"
   ]
  },
  {
   "cell_type": "code",
   "execution_count": 17,
   "id": "0ba461f0-23ac-4ece-9c45-486828ed9bef",
   "metadata": {},
   "outputs": [],
   "source": [
    "customer_query = \"\"\" SELECT CustomerKey, BirthDate FROM AdventureWorks_Customers; \"\"\"\n",
    "customers_df = run_query(customer_query)"
   ]
  },
  {
   "cell_type": "code",
   "execution_count": 19,
   "id": "5924899a-b74a-4bec-a0ad-630d6f925a21",
   "metadata": {},
   "outputs": [],
   "source": [
    "customers_df['BirthDate'] = pd.to_datetime(customers_df['BirthDate'])"
   ]
  },
  {
   "cell_type": "code",
   "execution_count": 23,
   "id": "e50ffdec-8954-4809-aa67-4f9fbff2c58a",
   "metadata": {},
   "outputs": [],
   "source": [
    "current_year = datetime.now().year\n",
    "customers_df['Age'] = current_year - customers_df [ 'BirthDate'].dt.year"
   ]
  },
  {
   "cell_type": "code",
   "execution_count": 25,
   "id": "e73cace0-b126-416c-8179-f08d6a6b50bd",
   "metadata": {},
   "outputs": [],
   "source": [
    "current_date = datetime.now()\n",
    "customers_df['Age']-= ((customers_df['BirthDate'].dt.month > current_date.month) |\n",
    "                       ((customers_df['BirthDate'].dt.month == current_date.month) &\n",
    "                        (customers_df['BirthDate'].dt.day > current_date.day)))\n"
   ]
  },
  {
   "cell_type": "code",
   "execution_count": 27,
   "id": "7cf4c120-9710-4ed0-a6dd-9e130fe62921",
   "metadata": {},
   "outputs": [],
   "source": [
    "age_bins =[0, 17, 24, 34, 44, 54, 64, 100]\n",
    "age_labels = ['Under 18', '18-24', '25-34', '35-44', '45-54', '55-64', '65+' ]\n",
    "\n",
    "customers_df ['Age_Group'] = pd.cut(customers_df['Age'], bins=age_bins, labels=age_labels, right=True)"
   ]
  },
  {
   "cell_type": "code",
   "execution_count": 29,
   "id": "6660b6e2-e0fd-4076-b82e-2ab855aaa08c",
   "metadata": {},
   "outputs": [],
   "source": [
    "conn= sql.connect('adventure works new.db')"
   ]
  },
  {
   "cell_type": "code",
   "execution_count": 31,
   "id": "b6e680d9-886d-4846-8f87-06bf6eda0604",
   "metadata": {},
   "outputs": [],
   "source": [
    "alter_query = \"\"\" ALTER TABLE AdventureWorks_Customers ADD COLUMN Age INTEGER;\"\"\""
   ]
  },
  {
   "cell_type": "code",
   "execution_count": 33,
   "id": "e6615420-2184-4d88-9aef-ad50d6090ee7",
   "metadata": {},
   "outputs": [
    {
     "data": {
      "text/plain": [
       "<sqlite3.Cursor at 0x2bd5bf12440>"
      ]
     },
     "execution_count": 33,
     "metadata": {},
     "output_type": "execute_result"
    }
   ],
   "source": [
    "conn.execute(alter_query)"
   ]
  },
  {
   "cell_type": "code",
   "execution_count": 35,
   "id": "dea8dbf5-54c4-4a22-a3a0-18e0976536c6",
   "metadata": {},
   "outputs": [],
   "source": [
    "alter_query = \"\"\" ALTER TABLE AdventureWorks_Customers ADD COLUMN Age_Group TEXT ; \"\"\""
   ]
  },
  {
   "cell_type": "code",
   "execution_count": 37,
   "id": "4c8872d3-b943-4433-a9cf-ae004bbda9e4",
   "metadata": {},
   "outputs": [
    {
     "data": {
      "text/plain": [
       "<sqlite3.Cursor at 0x2bd5bf136c0>"
      ]
     },
     "execution_count": 37,
     "metadata": {},
     "output_type": "execute_result"
    }
   ],
   "source": [
    "conn.execute(alter_query)"
   ]
  },
  {
   "cell_type": "code",
   "execution_count": 39,
   "id": "c46f1c4b-8924-4a61-80c6-29255897c00e",
   "metadata": {},
   "outputs": [],
   "source": [
    "conn.commit()"
   ]
  },
  {
   "cell_type": "code",
   "execution_count": 48,
   "id": "9726129a-c14c-4114-8494-24890af2a003",
   "metadata": {},
   "outputs": [],
   "source": [
    "for index, row in customers_df.iterrows():\n",
    "    update_query = \"\"\"\n",
    "    UPDATE AdventureWorks_Customers \n",
    "    SET Age = ? ,\n",
    "        Age_Group=?\n",
    "    WHERE CustomerKey = ?\n",
    "    \"\"\"\n",
    "    conn.execute(update_query, (row['Age'], row['Age_Group'], row['CustomerKey']))"
   ]
  },
  {
   "cell_type": "code",
   "execution_count": 50,
   "id": "adee1f05-6870-4d75-8121-1582d80f750b",
   "metadata": {},
   "outputs": [],
   "source": [
    "conn.commit()"
   ]
  },
  {
   "cell_type": "code",
   "execution_count": 52,
   "id": "dea66df3-fbbb-41df-8e06-29af2fe9e21f",
   "metadata": {},
   "outputs": [],
   "source": [
    "conn.close()"
   ]
  },
  {
   "cell_type": "code",
   "execution_count": 62,
   "id": "7d418748-988d-4479-97b8-d95fe2444341",
   "metadata": {},
   "outputs": [
    {
     "name": "stdout",
     "output_type": "stream",
     "text": [
      "   CustomerKey  BirthDate  Age Age_Group\n",
      "0        11000   4/8/1966   58     55-64\n",
      "1        11001  5/14/1965   59     55-64\n",
      "2        11002  8/12/1965   59     55-64\n",
      "3        11003  2/15/1968   56     55-64\n",
      "4        11004   8/8/1968   56     55-64\n"
     ]
    }
   ],
   "source": [
    "conn = sql.connect('adventure works new.db')\n",
    "updated_df = pd.read_sql_query(\"SELECT CustomerKey, BirthDate, Age, Age_Group FROM AdventureWorks_Customers\", conn)\n",
    "print(updated_df.head())                              "
   ]
  },
  {
   "cell_type": "code",
   "execution_count": 64,
   "id": "c7930079-b8a0-401b-922d-ca320cd91f4b",
   "metadata": {},
   "outputs": [],
   "source": [
    "conn.close()"
   ]
  },
  {
   "cell_type": "code",
   "execution_count": null,
   "id": "35765d2e-2bd3-475c-bf6b-73dd6ee1454f",
   "metadata": {},
   "outputs": [],
   "source": []
  }
 ],
 "metadata": {
  "kernelspec": {
   "display_name": "Python 3 (ipykernel)",
   "language": "python",
   "name": "python3"
  },
  "language_info": {
   "codemirror_mode": {
    "name": "ipython",
    "version": 3
   },
   "file_extension": ".py",
   "mimetype": "text/x-python",
   "name": "python",
   "nbconvert_exporter": "python",
   "pygments_lexer": "ipython3",
   "version": "3.12.4"
  }
 },
 "nbformat": 4,
 "nbformat_minor": 5
}
